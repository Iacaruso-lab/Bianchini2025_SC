{
 "cells": [
  {
   "cell_type": "code",
   "execution_count": 1,
   "id": "c31202d8",
   "metadata": {},
   "outputs": [],
   "source": [
    "# define relevants paths and load functions and libraries\n",
    "\n",
    "%run C:\\\\Users\\\\bianchg\\\\Documents\\\\GitHub\\\\Bianchini2025_SC\\\\Analysis\\\\helper_functions\\\\functions_analysis.py\n",
    "    \n",
    "data_path = 'paper_code\\\\Datasets\\\\' # your data path\n",
    "saving_path = 'paper_code\\\\Figures_output\\\\' # your saving figures path\n",
    "\n",
    "data_path = 'Z:\\\\home\\\\shared\\\\Gaia\\\\Coliseum\\\\Delays\\\\paper_code\\\\Datasets\\\\' \n",
    "saving_path = 'C:\\\\Users\\\\bianchg\\\\Documents\\\\GitHub\\\\Bianchini2025_SC\\\\Figures_output\\\\'"
   ]
  },
  {
   "cell_type": "code",
   "execution_count": 4,
   "id": "3ccc577d",
   "metadata": {},
   "outputs": [
    {
     "name": "stdout",
     "output_type": "stream",
     "text": [
      "dict_keys(['AP_lim', 'ML_lim', 'all_boot_aud', 'all_boot_vis', 'animal_ID', 'binSize', 'coord3D', 'depth_lim', 'experiment_ID', 'modality', 'peaks', 'pvals', 'resp', 'spikes', 'trials', 'window_spikes'])\n"
     ]
    }
   ],
   "source": [
    "# import relevant datasets\n",
    "\n",
    "# load the main dataset\n",
    "file= ''.join([data_path,'neurons_datasets\\\\delay_tuning_dataset.mat']) \n",
    "data_dict = mat73.loadmat(file)\n",
    "DAT=data_dict['merged_dataset']\n",
    "\n",
    "# check keys available\n",
    "print(DAT.keys())\n",
    "\n",
    "# extract all keys\n",
    "for k in DAT.keys():\n",
    "    globals()[k] = DAT[k]"
   ]
  },
  {
   "cell_type": "code",
   "execution_count": 5,
   "id": "02b14470",
   "metadata": {},
   "outputs": [],
   "source": [
    "# Plot relationship between visual and auditory latencies and preferred delay - Fig 2A-B\n",
    "\n",
    "#load the latenices\n",
    "load_dir = ''.join([data_path,'neurons_datasets\\\\latencies_vis_aud.npy'])\n",
    "latencies = np.load(load_dir)\n",
    "\n",
    "# get the preferred delay\n",
    "sig_del = []\n",
    "which_tr = []\n",
    "for i in range(peaks.shape[0]):\n",
    "    y = peaks[i,:-2]\n",
    "\n",
    "    vis_FR = peaks[i,-2]\n",
    "    aud_FR = peaks[i,-1]\n",
    "\n",
    "    if vis_FR>aud_FR:\n",
    "        boot_out = all_boot_vis[i,:]\n",
    "    elif aud_FR>vis_FR:\n",
    "        boot_out = all_boot_aud[i,:]\n",
    "    \n",
    "    pos_sig = np.argwhere(boot_out>0)\n",
    "    \n",
    "    if len(pos_sig)>0:\n",
    "        sig_del.append(i)\n",
    "        tr = pos_sig[np.argmax(y[pos_sig])]\n",
    "        which_tr.append(tr) \n",
    "\n",
    "sig_del = np.array(sig_del)\n",
    "pref_delay=np.array(which_tr)[:,0]"
   ]
  },
  {
   "cell_type": "code",
   "execution_count": 8,
   "id": "031c8ffb",
   "metadata": {},
   "outputs": [
    {
     "name": "stdout",
     "output_type": "stream",
     "text": [
      "0.9138483469549731\n"
     ]
    }
   ],
   "source": [
    "x = pref_delay[loc_instersect_A]\n",
    "y = aud_lat[A_tuned_n]\n",
    "\n",
    "slope, intercept, r_value, p_value, std_err = stats.linregress(x, y)\n",
    "print(p_value)"
   ]
  },
  {
   "cell_type": "code",
   "execution_count": 7,
   "id": "90f52ee7",
   "metadata": {},
   "outputs": [
    {
     "data": {
      "image/png": "[encoded data removed]",
      "text/plain": [
       "<Figure size 260x130 with 2 Axes>"
      ]
     },
     "metadata": {},
     "output_type": "display_data"
    }
   ],
   "source": [
    "# the preferred delay was not predicted by the difference in the latency of the peak of the unisensory responses - Fig 2A_B\n",
    "n_delays=11\n",
    "vis_lat = latencies[:,0]\n",
    "aud_lat = latencies[:,1]\n",
    "\n",
    "dims = (1, 2)\n",
    "fig, ax = plt.subplots(*dims, figsize=(1.3*2, 1.3))\n",
    "# Adjust the figure margins to eliminate whitespace\n",
    "plt.subplots_adjust(left=0, right=1, bottom=0, top=1)\n",
    "plt.subplots_adjust(wspace=0.4)\n",
    "\n",
    "this_ax = ax[0]\n",
    "AV_tuned_n = np.intersect1d(np.argwhere(modality == 3).flatten(), sig_del)\n",
    "VM_tuned_n = np.intersect1d(np.argwhere(modality == 5).flatten(), sig_del)\n",
    "\n",
    "# Combine the tuned neuron indices into a single array\n",
    "V_tuned_n = np.sort(np.concatenate([AV_tuned_n, VM_tuned_n]))\n",
    "loc_instersect1 = np.where(np.isin(sig_del, np.argwhere(modality == 3).flatten()))[0]\n",
    "loc_instersect2 = np.where(np.isin(sig_del, np.argwhere(modality == 5).flatten()))[0]\n",
    "\n",
    "# Combine the intersection positions\n",
    "loc_instersect_V = np.sort(np.concatenate([loc_instersect1, loc_instersect2]))\n",
    "sns.regplot(x=pref_delay[loc_instersect_V], y=vis_lat[V_tuned_n],scatter_kws={\"color\": '#A0A0A0','s':0.3}, line_kws={\"color\": 'black'},ax = this_ax)\n",
    "this_ax.spines[\"right\"].set_visible(False)\n",
    "this_ax.spines['top'].set_visible(False)\n",
    "this_ax.set_aspect('auto')\n",
    "this_ax.set_xlabel('AV delay (ms)', fontsize = 10)\n",
    "this_ax.set_ylabel('Vlatency (ms)', fontsize = 10)\n",
    "this_ax.set_xlim([-0.3,10.1])\n",
    "this_ax.set_ylim([0,250])\n",
    "this_ax.set_yticks([0,125,250])\n",
    "this_ax.set_xticks(np.arange(0,n_delays,2),np.arange(0,n_delays,2)*10, fontsize = 10)\n",
    "\n",
    "this_ax = ax[1]\n",
    "AV_tuned_n = np.intersect1d(np.argwhere(modality == 3).flatten(), sig_del)\n",
    "AM_tuned_n = np.intersect1d(np.argwhere(modality == 6).flatten(), sig_del)\n",
    "\n",
    "# Combine the tuned neuron indices into a single array\n",
    "A_tuned_n = np.sort(np.concatenate([AV_tuned_n, AM_tuned_n]))\n",
    "loc_instersect1 = np.where(np.isin(sig_del, np.argwhere(modality == 3).flatten()))[0]\n",
    "loc_instersect2 = np.where(np.isin(sig_del, np.argwhere(modality == 6).flatten()))[0]\n",
    "\n",
    "# Combine the intersection positions\n",
    "loc_instersect_A = np.sort(np.concatenate([loc_instersect1, loc_instersect2]))\n",
    "sns.regplot(x=pref_delay[loc_instersect_A], y=aud_lat[A_tuned_n],scatter_kws={\"color\": '#A0A0A0','s':0.3}, line_kws={\"color\": 'black'},ax = this_ax)\n",
    "this_ax.spines[\"right\"].set_visible(False)\n",
    "this_ax.spines['top'].set_visible(False)\n",
    "this_ax.set_aspect('auto')\n",
    "this_ax.set_xlabel('AV delay (ms)', fontsize = 10)\n",
    "this_ax.set_ylabel('Alatency (ms)', fontsize = 10)\n",
    "this_ax.set_xlim([-0.3,10.1])\n",
    "this_ax.set_ylim([0,250])\n",
    "this_ax.set_yticks([0,125,250])\n",
    "this_ax.set_xticks(np.arange(0,n_delays,2),np.arange(0,n_delays,2)*10, fontsize = 10)\n",
    "\n",
    "# define a saving directory and save it \n",
    "dir = ''.join([saving_path,'Supplementary_Figure2A_B.svg'])\n",
    "fig.savefig(dir, dpi=300,format='svg',bbox_inches='tight', pad_inches=0)\n"
   ]
  },
  {
   "cell_type": "code",
   "execution_count": 8,
   "id": "fce14fa8",
   "metadata": {},
   "outputs": [
    {
     "data": {
      "image/png": "[encoded data removed]",
      "text/plain": [
       "<Figure size 100x200 with 2 Axes>"
      ]
     },
     "metadata": {},
     "output_type": "display_data"
    }
   ],
   "source": [
    "# Plot relationship between visual and auditory latencies and preferred delay - Fig 2C\n",
    "\n",
    "dims = (2, 1)\n",
    "fig, axs = plt.subplots(*dims, figsize=(1,2))\n",
    "plt.subplots_adjust(left=0, right=1, bottom=0, top=1)\n",
    "plt.subplots_adjust(hspace=0.2) \n",
    "\n",
    "# modality = 3 is bimodal neurons\n",
    "this_ax = axs[0]\n",
    "sns.histplot(latencies[modality==3,0], stat='percent',bins = 30, edgecolor=\"black\", linewidth=0,color='#4D98CE',alpha=0.5,ax=this_ax)\n",
    "this_ax.set_ylabel('')\n",
    "this_ax.spines['top'].set_visible(False)\n",
    "this_ax.spines['right'].set_visible(False)\n",
    "this_ax.spines['bottom'].set_visible(False)\n",
    "this_ax.set_ylabel('% Neurons',fontsize=10)\n",
    "\n",
    "bar_heights_percent = [p.get_height() for p in this_ax.patches]\n",
    "total_points = len(latencies[modality==1,0])\n",
    "bin_counts = [height * total_points / 100 for height in bar_heights_percent]\n",
    "max_bin_count = max(bin_counts)\n",
    "\n",
    "# Convert the upper limit to percentage\n",
    "ratio = 0.1  # Change this ratio according to your preference\n",
    "upper_limit_count = max_bin_count + ratio * max_bin_count\n",
    "upper_limit_percent = np.round(upper_limit_count / total_points * 100)\n",
    "# Set the y-axis limit\n",
    "this_ax.set_ylim(0, upper_limit_percent)\n",
    "this_ax.set_xticks([])\n",
    "this_ax.axvline(x=137,color='k', linestyle='--')\n",
    "this_ax.set_ylim([0,10])\n",
    "\n",
    "this_ax = axs[1]\n",
    "sns.histplot(latencies[modality==3,1], stat='percent',bins = 30, edgecolor=\"black\", linewidth=0,color='#EE8222',alpha=0.5,ax=this_ax)\n",
    "#this_ax.set_xlabel('Peak time (ms)',fontsize=10)\n",
    "this_ax.set_ylabel('% Neurons',fontsize=10)\n",
    "this_ax.spines['top'].set_visible(False)\n",
    "this_ax.spines['right'].set_visible(False)\n",
    "\n",
    "bar_heights_percent = [p.get_height() for p in this_ax.patches]\n",
    "total_points = len(latencies[modality==2,1])\n",
    "bin_counts = [height * total_points / 100 for height in bar_heights_percent]\n",
    "max_bin_count = max(bin_counts)\n",
    "\n",
    "# Convert the upper limit to percentage\n",
    "ratio = 0.1  # Change this ratio according to your preference\n",
    "upper_limit_count = max_bin_count + ratio * max_bin_count\n",
    "upper_limit_percent2 = np.round(upper_limit_count / total_points * 100)\n",
    "\n",
    "# Set the y-axis limit\n",
    "this_ax.set_ylim(0, 20)\n",
    "this_ax.axvline(x=76, color='k', linestyle='--')\n",
    "this_ax.set_xlabel('Peak time (ms)',fontsize=10)\n",
    "this_ax.set_ylabel('% Neurons',fontsize=10)\n",
    "this_ax.spines['top'].set_visible(False)\n",
    "this_ax.spines['right'].set_visible(False)\n",
    "\n",
    "# define a saving directory and save it \n",
    "dir = ''.join([saving_path,'Supplementary_Figure2C.svg'])\n",
    "fig.savefig(dir, dpi=300,format='svg',bbox_inches='tight', pad_inches=0)\n"
   ]
  },
  {
   "cell_type": "code",
   "execution_count": 9,
   "id": "0d28d1ed",
   "metadata": {},
   "outputs": [
    {
     "data": {
      "image/png": "[encoded data removed]",
      "text/plain": [
       "<Figure size 100x200 with 2 Axes>"
      ]
     },
     "metadata": {},
     "output_type": "display_data"
    }
   ],
   "source": [
    "# Plot relationship between visual and auditory latencies and preferred delay - Fig 2D\n",
    "\n",
    "dims = (2, 1)\n",
    "fig, axs = plt.subplots(*dims, figsize=(1,2))\n",
    "plt.subplots_adjust(left=0, right=1, bottom=0, top=1)\n",
    "plt.subplots_adjust(hspace=0.2) \n",
    "vis_lat = latencies[modality==3,0]\n",
    "aud_lat = latencies[modality==3,1]\n",
    "multi_lat = latencies[modality==3,2]\n",
    "\n",
    "# Calculate differences\n",
    "differences = multi_lat - vis_lat\n",
    "ax = axs[0]\n",
    "sns.histplot(differences,stat='percent', ax=ax,bins = 30,edgecolor=\"black\", linewidth=0,color='black',alpha=0.5)\n",
    "ax.set_ylabel('% Neurons',fontsize=10)\n",
    "ax.set_title('AV - V',fontsize=10)\n",
    "ax.spines['top'].set_visible(False)\n",
    "ax.spines['right'].set_visible(False)\n",
    "ax.set_xlim([-250,250])\n",
    "ax.set_xticks([])\n",
    "ax.axvline(x=0, color='k', linestyle='--')\n",
    "ax.set_ylim([0,30])\n",
    "\n",
    "# Calculate differences\n",
    "ax = axs[1]\n",
    "differences = multi_lat - aud_lat\n",
    "\n",
    "sns.histplot(differences,stat='percent', ax=ax,bins = 30,edgecolor=\"black\", linewidth=0,color='black',alpha=0.5)\n",
    "ax.set_xlabel('Peak time diff (ms)',fontsize=10)\n",
    "ax.set_ylabel('% Neurons',fontsize=10)\n",
    "ax.set_title('AV - A',fontsize=10)\n",
    "ax.spines['top'].set_visible(False)\n",
    "ax.axvline(x=0, color='k', linestyle='--')\n",
    "ax.spines['right'].set_visible(False)\n",
    "ax.set_xlim([-250,250])\n",
    "ax.set_ylim([0,30])\n",
    "\n",
    "# define a saving directory and save it \n",
    "dir = ''.join([saving_path,'Supplementary_Figure2D.svg'])\n",
    "fig.savefig(dir, dpi=300,format='svg',bbox_inches='tight', pad_inches=0)"
   ]
  }
 ],
 "metadata": {
  "kernelspec": {
   "display_name": "Python 3 (ipykernel)",
   "language": "python",
   "name": "python3"
  },
  "language_info": {
   "codemirror_mode": {
    "name": "ipython",
    "version": 3
   },
   "file_extension": ".py",
   "mimetype": "text/x-python",
   "name": "python",
   "nbconvert_exporter": "python",
   "pygments_lexer": "ipython3",
   "version": "3.10.6"
  }
 },
 "nbformat": 4,
 "nbformat_minor": 5
}
