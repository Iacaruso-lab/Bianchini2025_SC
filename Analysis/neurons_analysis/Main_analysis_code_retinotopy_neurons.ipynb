{
 "cells": [
  {
   "cell_type": "code",
   "execution_count": 1,
   "id": "c225d215",
   "metadata": {},
   "outputs": [],
   "source": [
    "# define relevants paths and load functions and libraries\n",
    "\n",
    "%run Z:\\\\home\\\\shared\\\\Gaia\\\\Coliseum\\\\Delays\\\\paper_code\\\\Analysis\\\\helper_functions\\\\functions_analysis.py\n",
    "\n",
    "data_path = 'paper_code\\\\Datasets\\\\' # your data path\n",
    "saving_path = 'paper_code\\\\Figures_output\\\\' # your saving figures path"
   ]
  },
  {
   "cell_type": "code",
   "execution_count": 2,
   "id": "9a07bdf3",
   "metadata": {},
   "outputs": [],
   "source": [
    "data_path = 'Z:\\\\home\\\\shared\\\\Gaia\\\\Coliseum\\\\Delays\\\\paper_code\\\\Datasets\\\\'"
   ]
  },
  {
   "cell_type": "code",
   "execution_count": 15,
   "id": "b3479ea5",
   "metadata": {},
   "outputs": [
    {
     "name": "stdout",
     "output_type": "stream",
     "text": [
      "dict_keys(['AUD', 'AUD_coords', 'AUD_fits_interp', 'AUD_peaks', 'AUD_r', 'AV', 'MULTI', 'MULTI_coords', 'MULTI_fits_interp', 'MULTI_peaks', 'VIS', 'VIS_coords', 'VIS_fits_interp', 'VIS_peaks', 'VIS_r', 'animal_ID', 'coord3D', 'experiment_ID', 'locs', 'n_col', 'n_rows', 'neuron_ID', 'slices_degrees', 'stims'])\n"
     ]
    }
   ],
   "source": [
    "# Plot second section of Figure 1 - RF mapping\n",
    "# this uses a second dataset that needs to be loaded \n",
    "\n",
    "# load dataset\n",
    "file=''.join([data_path,'neurons_datasets\\\\retinotopy_dataset.mat'])\n",
    "data_dict = mat73.loadmat(file)\n",
    "DAT=data_dict['retinotopy_dataset']\n",
    "\n",
    "#check keys available\n",
    "print(DAT.keys())\n",
    "\n",
    "#I want to extract all keys in DAT and have them as arrays\n",
    "for k in DAT.keys():\n",
    "    globals()[k] = DAT[k]"
   ]
  },
  {
   "cell_type": "code",
   "execution_count": 16,
   "id": "8cf3a81e",
   "metadata": {},
   "outputs": [],
   "source": [
    "# now we plot the correlation of azhimuth and elevation for every multisensory neuron\n",
    "VIS_coords[:,0] = VIS_coords[:,0]*-1\n",
    "AUD_coords[:,0] = AUD_coords[:,0]*-1\n",
    "slices_degrees = slices_degrees*-1\n",
    "\n",
    "recs = np.unique(experiment_ID)\n",
    "vis_coord,aud_coord = [],[]\n",
    "vis_coord_all,aud_coord_all = [],[]\n",
    "vis_sd, aud_sd = [], []\n",
    "mean_AP_pos,mean_ML_pos = [],[]\n",
    "AP_pos_all,ML_pos_all = [],[]\n",
    "all_recs,all_animals = [],[]\n",
    "\n",
    "for count_r,r in enumerate(recs):\n",
    "    pos = np.argwhere(experiment_ID==r)\n",
    "    vis_c,aud_c = [],[]\n",
    "    count = []\n",
    "    for p in pos:\n",
    "        \n",
    "        if VIS[p] == 1 and AUD[p] ==1 or AV[p]==1:\n",
    "            vis_coord_all.append(VIS_coords[p,:])\n",
    "            aud_coord_all.append(AUD_coords[p,:])\n",
    "            \n",
    "            vis_c.append(VIS_coords[p,:])\n",
    "            aud_c.append(AUD_coords[p,:])\n",
    "            \n",
    "            AP_pos_all.append(coord3D[p,0])\n",
    "            ML_pos_all.append(coord3D[p,2])\n",
    "            count.append(p)\n",
    "            \n",
    "    all_recs.append(np.full((len(count),1),count_r))\n",
    "    all_animals.append(np.full((len(count),1),animal_ID[p]))\n",
    "    vis_sd.append(np.std(vis_c,axis=0))\n",
    "    aud_sd.append(np.std(aud_c,axis=0))\n",
    "    \n",
    "    mean_AP_pos.append(np.mean(coord3D[pos,0]))\n",
    "    mean_ML_pos.append(np.mean(coord3D[pos,2]))\n",
    "    \n",
    "vis_coord_all = np.squeeze(np.array(vis_coord_all))\n",
    "aud_coord_all = np.squeeze(np.array(aud_coord_all))\n",
    "\n",
    "edges_slices = np.zeros((2,1))\n",
    "edges_slices[:,0] = np.min(slices_degrees),np.max(slices_degrees)\n",
    "all_recs = np.vstack(all_recs)\n",
    "\n",
    "# and it get saved so it is easier for the plotting or just load it\n",
    "save_dir = ''.join([data_path,'neurons_datasets\\\\retinotopy_vis_aud_azimuth_elevation.npz'])\n",
    "np.savez(save_dir, edges_slices = edges_slices, mean_ML_pos =mean_ML_pos , mean_AP_pos= mean_AP_pos, AP_pos_all=AP_pos_all, ML_pos_all=ML_pos_all, vis_coord_all=vis_coord_all,aud_coord_all=aud_coord_all,all_recs = all_recs)\n"
   ]
  },
  {
   "cell_type": "code",
   "execution_count": null,
   "id": "b8de2a30",
   "metadata": {},
   "outputs": [],
   "source": []
  }
 ],
 "metadata": {
  "kernelspec": {
   "display_name": "Python 3 (ipykernel)",
   "language": "python",
   "name": "python3"
  },
  "language_info": {
   "codemirror_mode": {
    "name": "ipython",
    "version": 3
   },
   "file_extension": ".py",
   "mimetype": "text/x-python",
   "name": "python",
   "nbconvert_exporter": "python",
   "pygments_lexer": "ipython3",
   "version": "3.10.6"
  }
 },
 "nbformat": 4,
 "nbformat_minor": 5
}
